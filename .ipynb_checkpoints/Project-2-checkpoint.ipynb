{
 "cells": [
  {
   "cell_type": "markdown",
   "metadata": {},
   "source": [
    "# Ссылка на репозиторий https://github.com/MiguelGerMal/Project-2"
   ]
  },
  {
   "cell_type": "markdown",
   "metadata": {
    "toc": true
   },
   "source": [
    "<h1>Содержание<span class=\"tocSkip\"></span></h1>\n",
    "<div class=\"toc\"><ul class=\"toc-item\"><li><span><a href=\"#Подготовка-данных\" data-toc-modified-id=\"Подготовка-данных-1\"><span class=\"toc-item-num\">1&nbsp;&nbsp;</span>Подготовка данных</a></span></li><li><span><a href=\"#Исследование-задачи\" data-toc-modified-id=\"Исследование-задачи-2\"><span class=\"toc-item-num\">2&nbsp;&nbsp;</span>Исследование задачи</a></span></li><li><span><a href=\"#Борьба-с-дисбалансом\" data-toc-modified-id=\"Борьба-с-дисбалансом-3\"><span class=\"toc-item-num\">3&nbsp;&nbsp;</span>Борьба с дисбалансом</a></span></li><li><span><a href=\"#Тестирование-модели\" data-toc-modified-id=\"Тестирование-модели-4\"><span class=\"toc-item-num\">4&nbsp;&nbsp;</span>Тестирование модели</a></span></li><li><span><a href=\"#Общий-вывод\" data-toc-modified-id=\"Общий-вывод-5\"><span class=\"toc-item-num\">5&nbsp;&nbsp;</span>Общий вывод</a></span></li></ul></div>"
   ]
  },
  {
   "cell_type": "markdown",
   "metadata": {},
   "source": [
    "# Отток клиентов"
   ]
  },
  {
   "cell_type": "markdown",
   "metadata": {},
   "source": [
    "Из «Бета-Банка» стали уходить клиенты. Каждый месяц. Немного, но заметно. Банковские маркетологи посчитали: сохранять текущих клиентов дешевле, чем привлекать новых.\n",
    "\n",
    "Нужно спрогнозировать, уйдёт клиент из банка в ближайшее время или нет. Вам предоставлены исторические данные о поведении клиентов и расторжении договоров с банком. \n",
    "\n",
    "Постройте модель с предельно большим значением *F1*-меры. Чтобы сдать проект успешно, нужно довести метрику до 0.59. Проверьте *F1*-меру на тестовой выборке самостоятельно.\n",
    "\n",
    "Дополнительно измеряйте *AUC-ROC*, сравнивайте её значение с *F1*-мерой.\n",
    "\n",
    "Источник данных: [https://www.kaggle.com/barelydedicated/bank-customer-churn-modeling](https://www.kaggle.com/barelydedicated/bank-customer-churn-modeling)"
   ]
  },
  {
   "cell_type": "markdown",
   "metadata": {},
   "source": [
    "## Подготовка данных"
   ]
  },
  {
   "cell_type": "code",
   "execution_count": 1,
   "metadata": {},
   "outputs": [],
   "source": [
    "import pandas as pd\n",
    "from sklearn.model_selection import train_test_split\n",
    "from sklearn.preprocessing import StandardScaler\n",
    "\n",
    "import warnings\n",
    "\n",
    "from sklearn.tree import DecisionTreeClassifier\n",
    "from sklearn.ensemble import RandomForestClassifier\n",
    "\n",
    "from sklearn.metrics import confusion_matrix\n",
    "from sklearn.metrics import recall_score\n",
    "from sklearn.metrics import precision_score\n",
    "from sklearn.metrics import f1_score\n",
    "import numpy as np\n",
    "from sklearn.utils import shuffle\n",
    "import matplotlib.pyplot as plt\n",
    "from sklearn.metrics import precision_recall_curve\n",
    "from sklearn.metrics import roc_curve\n",
    "from sklearn.metrics import roc_auc_score\n",
    "from sklearn.metrics import accuracy_score"
   ]
  },
  {
   "cell_type": "code",
   "execution_count": 5,
   "metadata": {},
   "outputs": [],
   "source": [
    "try:\n",
    "    df = pd.read_csv('/datasets/data.csv')\n",
    "except:\n",
    "    df = pd.read_csv('data.csv')"
   ]
  },
  {
   "cell_type": "code",
   "execution_count": 6,
   "metadata": {},
   "outputs": [
    {
     "name": "stdout",
     "output_type": "stream",
     "text": [
      "<class 'pandas.core.frame.DataFrame'>\n",
      "RangeIndex: 10000 entries, 0 to 9999\n",
      "Data columns (total 14 columns):\n",
      " #   Column           Non-Null Count  Dtype  \n",
      "---  ------           --------------  -----  \n",
      " 0   RowNumber        10000 non-null  int64  \n",
      " 1   CustomerId       10000 non-null  int64  \n",
      " 2   Surname          10000 non-null  object \n",
      " 3   CreditScore      10000 non-null  int64  \n",
      " 4   Geography        10000 non-null  object \n",
      " 5   Gender           10000 non-null  object \n",
      " 6   Age              10000 non-null  int64  \n",
      " 7   Tenure           9091 non-null   float64\n",
      " 8   Balance          10000 non-null  float64\n",
      " 9   NumOfProducts    10000 non-null  int64  \n",
      " 10  HasCrCard        10000 non-null  int64  \n",
      " 11  IsActiveMember   10000 non-null  int64  \n",
      " 12  EstimatedSalary  10000 non-null  float64\n",
      " 13  Exited           10000 non-null  int64  \n",
      "dtypes: float64(3), int64(8), object(3)\n",
      "memory usage: 1.1+ MB\n"
     ]
    }
   ],
   "source": [
    "df.info()"
   ]
  },
  {
   "cell_type": "code",
   "execution_count": 7,
   "metadata": {},
   "outputs": [],
   "source": [
    "df['Tenure'] = df['Tenure'].fillna(df['Tenure'].median())\n",
    "df['Tenure'] = df['Tenure'].astype(int)"
   ]
  },
  {
   "cell_type": "markdown",
   "metadata": {},
   "source": [
    "\n",
    "Предварительно посмотрим на соотношение классов в целевом признаке"
   ]
  },
  {
   "cell_type": "code",
   "execution_count": 8,
   "metadata": {
    "scrolled": true
   },
   "outputs": [
    {
     "data": {
      "text/plain": [
       "0    7963\n",
       "1    2037\n",
       "Name: Exited, dtype: int64"
      ]
     },
     "execution_count": 8,
     "metadata": {},
     "output_type": "execute_result"
    }
   ],
   "source": [
    "df['Exited'].value_counts()"
   ]
  },
  {
   "cell_type": "markdown",
   "metadata": {},
   "source": [
    "Присутствует дисбаланс"
   ]
  },
  {
   "cell_type": "markdown",
   "metadata": {},
   "source": [
    "Разобьем исходный датасет на тестовую и валидационную выборки, при этом для категориальных признаков сделаем OHE-кодирование через get_dummy. Также выкинем из датасета столбцы RowNumber (потому что он дублирует индекс, CustomerId, Surname)"
   ]
  },
  {
   "cell_type": "code",
   "execution_count": 9,
   "metadata": {},
   "outputs": [
    {
     "name": "stdout",
     "output_type": "stream",
     "text": [
      "(6000, 11) (6000,)\n",
      "(2000, 11) (2000,)\n",
      "(2000, 11) (2000,)\n"
     ]
    }
   ],
   "source": [
    "df_ohe = pd.get_dummies(df.drop(['RowNumber', 'CustomerId', 'Surname'], axis = 1), drop_first = True)\n",
    "target = df_ohe['Exited']\n",
    "features = df_ohe.drop(['Exited'] , axis=1)\n",
    "features_train_valid, features_test, target_train_valid, target_test = train_test_split(\n",
    "    features, target, test_size=0.2, random_state=12345)\n",
    "features_train, features_valid, target_train, target_valid = train_test_split(\n",
    "    features_train_valid, target_train_valid, test_size=1/4, random_state=12345)\n",
    "\n",
    "print(features_train.shape, target_train.shape)\n",
    "print(features_valid.shape, target_valid.shape)\n",
    "print(features_test.shape, target_test.shape)"
   ]
  },
  {
   "cell_type": "markdown",
   "metadata": {},
   "source": [
    "Для всех столбцов, которые являются недискретными/не являются категориальными (хотя возраст можно и сделать категориальным, но пусть будет пока так) стандартизируем все данные (чтобы абсолютный размер дисперсии не был определяющим фактором)"
   ]
  },
  {
   "cell_type": "code",
   "execution_count": 10,
   "metadata": {},
   "outputs": [],
   "source": [
    "numeric = ['CreditScore', 'Age', 'Tenure', 'Balance','NumOfProducts', 'EstimatedSalary']"
   ]
  },
  {
   "cell_type": "code",
   "execution_count": 11,
   "metadata": {
    "scrolled": false
   },
   "outputs": [],
   "source": [
    "warnings.filterwarnings(\"ignore\")\n",
    "\n",
    "\n",
    "scaler = StandardScaler()\n",
    "scaler.fit(features[numeric])\n",
    "features_train[numeric] = scaler.transform(features_train[numeric])\n",
    "features_valid[numeric] = scaler.transform(features_valid[numeric])\n",
    "features_test[numeric] = scaler.transform(features_test[numeric])"
   ]
  },
  {
   "cell_type": "markdown",
   "metadata": {},
   "source": [
    "## Исследование задачи"
   ]
  },
  {
   "cell_type": "markdown",
   "metadata": {},
   "source": [
    "Подберем оптимальную глубину DecisionTree"
   ]
  },
  {
   "cell_type": "code",
   "execution_count": 13,
   "metadata": {},
   "outputs": [
    {
     "data": {
      "text/plain": [
       "DecisionTreeClassifier(random_state=12345)"
      ]
     },
     "execution_count": 13,
     "metadata": {},
     "output_type": "execute_result"
    }
   ],
   "source": [
    "tree = DecisionTreeClassifier(random_state=12345)\n",
    "tree.fit(features_train, target_train)"
   ]
  },
  {
   "cell_type": "code",
   "execution_count": 21,
   "metadata": {},
   "outputs": [
    {
     "name": "stdout",
     "output_type": "stream",
     "text": [
      "best_depth 5\n",
      "best_leaf 141\n",
      "best_f1_score 0.5541795665634675\n"
     ]
    }
   ],
   "source": [
    "best_f1_score = 0\n",
    "best_depth = 0\n",
    "best_leaf = 0\n",
    "\n",
    "for depth in range(1, 6):\n",
    "    for leaf in range(1,150,10):\n",
    "        tree = DecisionTreeClassifier(random_state=12345, max_depth = depth,\n",
    "                                    min_samples_leaf = leaf)\n",
    "        tree.fit(features_train, target_train)\n",
    "        predictions = tree.predict(features_valid)\n",
    "        f1 = f1_score(target_valid, predictions)\n",
    "        if f1>best_f1_score:\n",
    "            best_depth = depth\n",
    "            best_f1_score = f1\n",
    "            best_leaf = leaf\n",
    "\n",
    "print('best_depth', depth)\n",
    "print('best_leaf', leaf)\n",
    "print('best_f1_score', best_f1_score)"
   ]
  },
  {
   "cell_type": "markdown",
   "metadata": {},
   "source": [
    "модель просто выбирает максимальные значения для глубины дерева и минимального числа образцов в ветви (\"листе\"). Делать деревья глубже 3-5 уровней нежелательно, поэтому оставим лишь глубину дерева в 5 как лучшую"
   ]
  },
  {
   "cell_type": "markdown",
   "metadata": {},
   "source": [
    "Измерим accuracy_score, confusion_matrix, precision и recall для дерева глубиной 5"
   ]
  },
  {
   "cell_type": "code",
   "execution_count": 15,
   "metadata": {
    "scrolled": false
   },
   "outputs": [
    {
     "data": {
      "image/png": "[encoded data removed]",
      "text/plain": [
       "<Figure size 640x480 with 1 Axes>"
      ]
     },
     "metadata": {},
     "output_type": "display_data"
    },
    {
     "name": "stdout",
     "output_type": "stream",
     "text": [
      "accuracy_score 0.855\n",
      "precision_score 0.6996047430830039\n",
      "recall_score 0.45268542199488493\n"
     ]
    },
    {
     "data": {
      "text/plain": [
       "array([[1533,   76],\n",
       "       [ 214,  177]], dtype=int64)"
      ]
     },
     "execution_count": 15,
     "metadata": {},
     "output_type": "execute_result"
    }
   ],
   "source": [
    "tree =  tree = DecisionTreeClassifier(random_state=12345, max_depth = 5)\n",
    "tree.fit(features_train, target_train)\n",
    "probabilities_valid = tree.predict_proba(features_valid)\n",
    "probabilites_one_valid = probabilities_valid[:,1]\n",
    "fpr, tpr, thresholds = roc_curve(target_valid, probabilites_one_valid)\n",
    "plt.plot(fpr, tpr)\n",
    "plt.xlim([0.0, 1.0])\n",
    "plt.ylim([0.0, 1.0])\n",
    "plt.xlabel('False Positive Rate')\n",
    "plt.ylabel('True Positive Rate')\n",
    "plt.title('ROC-кривая') \n",
    "plt.show()\n",
    "\n",
    "predictions = tree.predict(features_valid)\n",
    "print('accuracy_score', accuracy_score(target_valid, predictions))\n",
    "print('precision_score', precision_score(target_valid, predictions))\n",
    "print('recall_score', recall_score(target_valid, predictions))\n",
    "confusion_matrix(target_valid, predictions)"
   ]
  },
  {
   "cell_type": "markdown",
   "metadata": {},
   "source": [
    "15% ошибок всего, recall примерно 50% (модель плохо определяет положительный класс)"
   ]
  },
  {
   "cell_type": "markdown",
   "metadata": {},
   "source": [
    "Рассмотрим график precision-recall"
   ]
  },
  {
   "cell_type": "code",
   "execution_count": 16,
   "metadata": {
    "scrolled": false
   },
   "outputs": [
    {
     "data": {
      "image/png": "[encoded data removed]",
      "text/plain": [
       "<Figure size 600x600 with 1 Axes>"
      ]
     },
     "metadata": {},
     "output_type": "display_data"
    }
   ],
   "source": [
    "probabilities_valid = tree.predict_proba(features_valid)\n",
    "\n",
    "precision, recall, thresholds = precision_recall_curve(target_valid, probabilities_valid[:, 1])\n",
    "\n",
    "plt.figure(figsize=(6, 6))\n",
    "plt.step(recall, precision, where='post')\n",
    "plt.xlabel('Recall')\n",
    "plt.ylabel('Precision')\n",
    "plt.ylim([0.0, 1.05])\n",
    "plt.xlim([0.0, 1.0])\n",
    "plt.title('Кривая Precision-Recall')\n",
    "plt.show()\n"
   ]
  },
  {
   "cell_type": "markdown",
   "metadata": {},
   "source": [
    "никаких пиков нет"
   ]
  },
  {
   "cell_type": "code",
   "execution_count": 17,
   "metadata": {
    "scrolled": true
   },
   "outputs": [
    {
     "name": "stdout",
     "output_type": "stream",
     "text": [
      "best_est_forest 190\n",
      "best_f1_score_forest 0.5490196078431372\n",
      "best_depth 9\n"
     ]
    }
   ],
   "source": [
    "best_f1_score_forest = 0\n",
    "best_est_forest = 0\n",
    "best_depth = 0\n",
    "for est in range(10, 200, 10):\n",
    "    for depth in range(1,10):\n",
    "        forest = RandomForestClassifier(random_state=12345, max_depth = depth, n_estimators = est)\n",
    "        forest.fit(features_train, target_train)\n",
    "        predictions = forest.predict(features_valid)\n",
    "        f1 = f1_score(target_valid, predictions)\n",
    "        if f1>best_f1_score_forest:\n",
    "            best_est_forest = est\n",
    "            best_f1_score_forest = f1\n",
    "            best_depth = depth\n",
    "print('best_est_forest', est)\n",
    "print('best_f1_score_forest', best_f1_score_forest)\n",
    "print('best_depth', best_depth)"
   ]
  },
  {
   "cell_type": "markdown",
   "metadata": {},
   "source": [
    "проверим все другие метрики"
   ]
  },
  {
   "cell_type": "code",
   "execution_count": 18,
   "metadata": {
    "scrolled": true
   },
   "outputs": [
    {
     "name": "stdout",
     "output_type": "stream",
     "text": [
      "best_depth 9\n"
     ]
    },
    {
     "data": {
      "image/png": "[encoded data removed]",
      "text/plain": [
       "<Figure size 640x480 with 1 Axes>"
      ]
     },
     "metadata": {},
     "output_type": "display_data"
    },
    {
     "name": "stdout",
     "output_type": "stream",
     "text": [
      "accuracy_score 0.863\n",
      "precision_score 0.7799043062200957\n",
      "recall_score 0.41687979539641945\n",
      "f1_score 0.5433333333333333\n"
     ]
    },
    {
     "data": {
      "text/plain": [
       "array([[1563,   46],\n",
       "       [ 228,  163]], dtype=int64)"
      ]
     },
     "execution_count": 18,
     "metadata": {},
     "output_type": "execute_result"
    }
   ],
   "source": [
    "best_f1_score_forest = 0\n",
    "best_depth = 0\n",
    "for i in range(1, 10): \n",
    "    forest = RandomForestClassifier(random_state=12345, max_depth = i)\n",
    "    forest.fit(features_train, target_train)\n",
    "    predictions = forest.predict(features_valid)\n",
    "    f1 = f1_score(target_valid, predictions)\n",
    "    if f1>best_f1_score_forest:\n",
    "        best_f1_score_forest = f1\n",
    "        best_depth = i\n",
    "\n",
    "print('best_depth', best_depth)\n",
    "forest = RandomForestClassifier(random_state=12345, max_depth = best_depth)\n",
    "forest.fit(features_train, target_train)\n",
    "probabilities_valid = forest.predict_proba(features_valid)\n",
    "probabilites_one_valid = probabilities_valid[:,1]\n",
    "fpr, tpr, thresholds = roc_curve(target_valid, probabilites_one_valid)\n",
    "plt.plot(fpr, tpr)\n",
    "plt.xlim([0.0, 1.0])\n",
    "plt.ylim([0.0, 1.0])\n",
    "plt.xlabel('False Positive Rate')\n",
    "plt.ylabel('True Positive Rate')\n",
    "plt.title('ROC-кривая') \n",
    "plt.show()\n",
    "\n",
    "predictions = forest.predict(features_valid)\n",
    "print('accuracy_score', accuracy_score(target_valid, predictions))\n",
    "print('precision_score', precision_score(target_valid, predictions))\n",
    "print('recall_score', recall_score(target_valid, predictions))\n",
    "print('f1_score', f1_score(target_valid, predictions))\n",
    "confusion_matrix(target_valid, predictions)\n"
   ]
  },
  {
   "cell_type": "markdown",
   "metadata": {},
   "source": [
    "## Борьба с дисбалансом"
   ]
  },
  {
   "cell_type": "markdown",
   "metadata": {},
   "source": [
    "Используем class_weight = 'balanced'"
   ]
  },
  {
   "cell_type": "code",
   "execution_count": 26,
   "metadata": {
    "scrolled": true
   },
   "outputs": [
    {
     "name": "stdout",
     "output_type": "stream",
     "text": [
      "best_depth 9\n",
      "best_est 190\n",
      "accuracy_score 0.827\n",
      "precision_score 0.551487414187643\n",
      "recall_score 0.6163682864450127\n",
      "f1_score 0.5821256038647343\n",
      "roc_auc_score 0.5026121419564042\n"
     ]
    },
    {
     "data": {
      "image/png": "[encoded data removed]",
      "text/plain": [
       "<Figure size 432x288 with 1 Axes>"
      ]
     },
     "metadata": {
      "needs_background": "light"
     },
     "output_type": "display_data"
    },
    {
     "data": {
      "text/plain": [
       "array([[1413,  196],\n",
       "       [ 150,  241]])"
      ]
     },
     "execution_count": 26,
     "metadata": {},
     "output_type": "execute_result"
    }
   ],
   "source": [
    "best_depth = 0\n",
    "best_roc_auc = 0\n",
    "\n",
    "for depth in range(1,10):\n",
    "    forest = RandomForestClassifier(random_state=12345, max_depth = depth, class_weight = 'balanced')\n",
    "    #forest.fit(features_valid, target_valid)    \n",
    "    forest.fit(features_train, target_train)\n",
    "    probabilities_valid = forest.predict_proba(features_valid)\n",
    "    probabilites_one_valid = probabilities_valid[:,1]\n",
    "    fpr, tpr, thresholds = roc_curve(target_valid, probabilites_one_valid)\n",
    "    if roc_auc_score(target_valid, probabilites_one_valid)>best_roc_auc:\n",
    "        best_depth = depth\n",
    "        best_est = est\n",
    "print('best_depth', best_depth)\n",
    "print('best_est', best_est)\n",
    "forest = RandomForestClassifier(random_state=12345, max_depth = best_depth, class_weight = 'balanced')\n",
    "forest.fit(features_train, target_train)\n",
    "\n",
    "predictions = forest.predict(features_valid)\n",
    "print('accuracy_score', accuracy_score(target_valid, predictions))\n",
    "print('precision_score', precision_score(target_valid, predictions))\n",
    "print('recall_score', recall_score(target_valid, predictions))\n",
    "print('f1_score', f1_score(target_valid, predictions))\n",
    "\n",
    "probabilities_valid = forest.predict_proba(features_valid)\n",
    "probabilites_one_valid = probabilities_valid[:,1]\n",
    "\n",
    "fpr, tpr, thresholds = roc_curve(target_valid, probabilites_one_valid)\n",
    "print('roc_auc_score', roc_auc_score(target_test, probabilites_one_valid))\n",
    "\n",
    "\n",
    "plt.plot(fpr, tpr)\n",
    "plt.xlim([0.0, 1.0])\n",
    "plt.ylim([0.0, 1.0])\n",
    "plt.xlabel('False Positive Rate')\n",
    "plt.ylabel('True Positive Rate')\n",
    "plt.title('ROC-кривая') \n",
    "plt.show()\n",
    "confusion_matrix(target_valid, predictions)"
   ]
  },
  {
   "cell_type": "markdown",
   "metadata": {},
   "source": [
    "проверим на тестовой выборке метрики"
   ]
  },
  {
   "cell_type": "code",
   "execution_count": 37,
   "metadata": {
    "scrolled": true
   },
   "outputs": [
    {
     "name": "stdout",
     "output_type": "stream",
     "text": [
      "accuracy_score 0.827\n",
      "precision_score 0.551487414187643\n",
      "recall_score 0.6163682864450127\n",
      "f1_score 0.5821256038647343\n",
      "roc_auc_score 0.8532566970636716\n"
     ]
    },
    {
     "data": {
      "image/png": "[encoded data removed]",
      "text/plain": [
       "<Figure size 432x288 with 1 Axes>"
      ]
     },
     "metadata": {
      "needs_background": "light"
     },
     "output_type": "display_data"
    },
    {
     "data": {
      "text/plain": [
       "array([[1413,  196],\n",
       "       [ 150,  241]])"
      ]
     },
     "execution_count": 37,
     "metadata": {},
     "output_type": "execute_result"
    }
   ],
   "source": [
    "best_f1_score = 0\n",
    "best_depth = 0\n",
    "\n",
    "for depth in range(1, 6):\n",
    "    tree = DecisionTreeClassifier(random_state=12345, max_depth = depth)\n",
    "    tree.fit(features_train, target_train)\n",
    "    predictions = tree.predict(features_valid)\n",
    "    f1 = f1_score(target_valid, predictions)\n",
    "    if f1>best_f1_score:\n",
    "        best_depth = depth\n",
    "        best_f1_score = f1\n",
    "\n",
    "print('best_depth', depth)\n",
    "print('best_f1_score', best_f1_score)\n",
    "\n",
    "\n",
    "tree = DecisionTreeClassifier(random_state=12345, max_depth = best_depth, class_weight = 'balanced')\n",
    "tree.fit(features_train, target_train)\n",
    "\n",
    "predictions = tree.predict(features_valid)\n",
    "print('accuracy_score', accuracy_score(target_valid, predictions))\n",
    "print('precision_score', precision_score(target_valid, predictions))\n",
    "print('recall_score', recall_score(target_valid, predictions))\n",
    "print('f1_score', f1_score(target_valid, predictions))\n",
    "\n",
    "probabilities_valid = tree.predict_proba(features_valid)\n",
    "probabilites_one_valid = probabilities_valid[:,1]\n",
    "\n",
    "fpr, tpr, thresholds = roc_curve(target_valid, probabilites_one_valid)\n",
    "print('roc_auc_score', roc_auc_score(target_test, probabilites_one_valid))\n",
    "\n",
    "\n",
    "plt.plot(fpr, tpr)\n",
    "plt.xlim([0.0, 1.0])\n",
    "plt.ylim([0.0, 1.0])\n",
    "plt.xlabel('False Positive Rate')\n",
    "plt.ylabel('True Positive Rate')\n",
    "plt.title('ROC-кривая') \n",
    "plt.show()\n",
    "confusion_matrix(target_valid, predictions)"
   ]
  },
  {
   "cell_type": "code",
   "execution_count": 28,
   "metadata": {},
   "outputs": [
    {
     "data": {
      "text/plain": [
       "20.316666666666666"
      ]
     },
     "execution_count": 28,
     "metadata": {},
     "output_type": "execute_result"
    }
   ],
   "source": [
    "target_train.sum()/len(target_train)*100"
   ]
  },
  {
   "cell_type": "markdown",
   "metadata": {},
   "source": [
    "положительных результатов 20%, хочу использовать upsampling"
   ]
  },
  {
   "cell_type": "code",
   "execution_count": 30,
   "metadata": {},
   "outputs": [
    {
     "name": "stdout",
     "output_type": "stream",
     "text": [
      "(9657, 11)\n",
      "(9657,)\n"
     ]
    },
    {
     "data": {
      "text/plain": [
       "4876"
      ]
     },
     "execution_count": 30,
     "metadata": {},
     "output_type": "execute_result"
    }
   ],
   "source": [
    "repeat = int(len(target)/sum(target))\n",
    "\n",
    "features_zeros = features_train[target_train == 0]\n",
    "features_ones = features_train[target_train == 1]\n",
    "target_zeros = target_train[target_train == 0]\n",
    "target_ones = target_train[target_train == 1]\n",
    "\n",
    "features_upsampled = shuffle(pd.concat([features_zeros] + [features_ones] * repeat), random_state = 12345)\n",
    "target_upsampled = shuffle(pd.concat([target_zeros] + [target_ones] * repeat), random_state = 12345)\n",
    "\n",
    "print(features_upsampled.shape)\n",
    "print(target_upsampled.shape)\n",
    "target_upsampled.sum()"
   ]
  },
  {
   "cell_type": "code",
   "execution_count": 53,
   "metadata": {
    "scrolled": true
   },
   "outputs": [
    {
     "name": "stdout",
     "output_type": "stream",
     "text": [
      "best_depth 8\n",
      "best_est 190\n",
      "best_roc_auc_score 0.8538559477618702\n",
      "accuracy_score 0.81\n",
      "precision_score 0.5104364326375711\n",
      "recall_score 0.6879795396419437\n",
      "f1_score 0.5860566448801742\n",
      "roc_auc_score 0.8538559477618702\n"
     ]
    },
    {
     "data": {
      "image/png": "[encoded data removed]",
      "text/plain": [
       "<Figure size 432x288 with 1 Axes>"
      ]
     },
     "metadata": {
      "needs_background": "light"
     },
     "output_type": "display_data"
    },
    {
     "data": {
      "text/plain": [
       "array([[1351,  258],\n",
       "       [ 122,  269]])"
      ]
     },
     "execution_count": 53,
     "metadata": {},
     "output_type": "execute_result"
    }
   ],
   "source": [
    "best_depth = 0\n",
    "best_roc_auc_score = 0\n",
    "best_est = 0\n",
    "\n",
    "for depth in range(1,9):\n",
    "    for est in range(100, 200, 10):\n",
    "        forest = RandomForestClassifier(random_state=12345, max_depth = depth, n_estimators = est)\n",
    "        forest.fit(features_upsampled, target_upsampled)\n",
    "        probabilities_valid = forest.predict_proba(features_valid)\n",
    "        probabilites_one_valid = probabilities_valid[:,1]\n",
    "        if roc_auc_score(target_valid, probabilites_one_valid)>best_roc_auc_score:\n",
    "            best_depth = depth\n",
    "            best_roc_auc_score = roc_auc_score(target_valid, probabilites_one_valid)\n",
    "            best_est = est\n",
    "\n",
    "print('best_depth', depth)\n",
    "print('best_est', best_est)\n",
    "print('best_roc_auc_score', best_roc_auc_score)\n",
    "        \n",
    "forest = RandomForestClassifier(random_state=12345, max_depth = best_depth, n_estimators = best_est)\n",
    "forest.fit(features_upsampled, target_upsampled)\n",
    "\n",
    "\n",
    "predictions = forest.predict(features_valid)\n",
    "print('accuracy_score', accuracy_score(target_valid, predictions))\n",
    "print('precision_score', precision_score(target_valid, predictions))\n",
    "print('recall_score', recall_score(target_valid, predictions))\n",
    "print('f1_score', f1_score(target_valid, predictions))\n",
    "\n",
    "probabilities_valid = forest.predict_proba(features_valid)\n",
    "probabilites_one_valid = probabilities_valid[:,1]\n",
    "\n",
    "fpr, tpr, thresholds = roc_curve(target_valid, probabilites_one_valid)\n",
    "print('roc_auc_score', roc_auc_score(target_valid, probabilites_one_valid))\n",
    "\n",
    "\n",
    "plt.plot(fpr, tpr)\n",
    "plt.xlim([0.0, 1.0])\n",
    "plt.ylim([0.0, 1.0])\n",
    "plt.xlabel('False Positive Rate')\n",
    "plt.ylabel('True Positive Rate')\n",
    "plt.title('ROC-кривая') \n",
    "plt.show()\n",
    "confusion_matrix(target_valid, predictions)"
   ]
  },
  {
   "cell_type": "markdown",
   "metadata": {},
   "source": [
    "посмотрим на логистическую регрессию (измениться ли что-то)"
   ]
  },
  {
   "cell_type": "code",
   "execution_count": 47,
   "metadata": {},
   "outputs": [
    {
     "name": "stdout",
     "output_type": "stream",
     "text": [
      "accuracy_score 0.763\n",
      "precision_score 0.4372163388804841\n",
      "recall_score 0.7391304347826086\n",
      "f1_score 0.5494296577946768\n",
      "roc_auc_score 0.8193314778285189\n"
     ]
    },
    {
     "data": {
      "image/png": "[encoded data removed]",
      "text/plain": [
       "<Figure size 432x288 with 1 Axes>"
      ]
     },
     "metadata": {
      "needs_background": "light"
     },
     "output_type": "display_data"
    },
    {
     "data": {
      "text/plain": [
       "array([[1237,  372],\n",
       "       [ 102,  289]])"
      ]
     },
     "execution_count": 47,
     "metadata": {},
     "output_type": "execute_result"
    }
   ],
   "source": [
    "best_depth = 0\n",
    "best_roc_auc_score = 0\n",
    "for depth in range(1,9):\n",
    "    tree = DecisionTreeClassifier(random_state = 12345, max_depth = depth)\n",
    "    tree.fit(features_upsampled, target_upsampled)\n",
    "    probabilities_valid = tree.predict_proba(features_valid)\n",
    "    probabilites_one_valid = probabilities_valid[:,1]\n",
    "    if roc_auc_score(target_valid, probabilites_one_valid)>best_roc_auc_score:\n",
    "        best_depth = depth\n",
    "        best_n_estimators = est\n",
    "        best_roc_auc_score = roc_auc_score(target_valid, probabilites_one_valid)\n",
    "\n",
    "tree = DecisionTreeClassifier(random_state = 12345, max_depth = best_depth)\n",
    "tree.fit(features_upsampled, target_upsampled)\n",
    "predictions = tree.predict(features_valid)\n",
    "print('accuracy_score', accuracy_score(target_valid, predictions))\n",
    "print('precision_score', precision_score(target_valid, predictions))\n",
    "print('recall_score', recall_score(target_valid, predictions))\n",
    "print('f1_score', f1_score(target_valid, predictions))\n",
    "\n",
    "probabilities_valid = tree.predict_proba(features_valid)\n",
    "probabilites_one_valid = probabilities_valid[:,1]\n",
    "\n",
    "fpr, tpr, thresholds = roc_curve(target_valid, probabilites_one_valid)\n",
    "print('roc_auc_score', roc_auc_score(target_valid, probabilites_one_valid))\n",
    "\n",
    "\n",
    "plt.plot(fpr, tpr)\n",
    "plt.xlim([0.0, 1.0])\n",
    "plt.ylim([0.0, 1.0])\n",
    "plt.xlabel('False Positive Rate')\n",
    "plt.ylabel('True Positive Rate')\n",
    "plt.title('ROC-кривая') \n",
    "plt.show()\n",
    "confusion_matrix(target_valid, predictions)"
   ]
  },
  {
   "cell_type": "markdown",
   "metadata": {},
   "source": [
    "также много ложноотрицательных, но стал выше recall по сравнению с изначальными выборками"
   ]
  },
  {
   "cell_type": "markdown",
   "metadata": {},
   "source": [
    "## Тестирование модели"
   ]
  },
  {
   "cell_type": "markdown",
   "metadata": {},
   "source": [
    "используем последние настройки RandomForest"
   ]
  },
  {
   "cell_type": "code",
   "execution_count": 56,
   "metadata": {
    "scrolled": false
   },
   "outputs": [
    {
     "name": "stdout",
     "output_type": "stream",
     "text": [
      "roc_auc_score 0.8695090304628309\n",
      "recall 0.7353629976580797\n",
      "precision 0.5678119349005425\n",
      "f1_score 0.6408163265306123\n"
     ]
    },
    {
     "data": {
      "image/png": "[encoded data removed]",
      "text/plain": [
       "<Figure size 432x288 with 1 Axes>"
      ]
     },
     "metadata": {
      "needs_background": "light"
     },
     "output_type": "display_data"
    },
    {
     "data": {
      "text/plain": [
       "array([[1334,  239],\n",
       "       [ 113,  314]])"
      ]
     },
     "execution_count": 56,
     "metadata": {},
     "output_type": "execute_result"
    }
   ],
   "source": [
    "predictions = forest.predict(features_test)\n",
    "\n",
    "probabilities_test = forest.predict_proba(features_test)\n",
    "probabilites_one_test = probabilities_test[:,1]\n",
    "\n",
    "print('roc_auc_score', roc_auc_score(target_test, probabilites_one_test))\n",
    "confusion_matrix(target_test, predictions)\n",
    "print('recall', recall_score(target_test, predictions))\n",
    "print('precision', precision_score(target_test, predictions))\n",
    "print('f1_score', f1_score(target_test, predictions))\n",
    "\n",
    "\n",
    "fpr, tpr, thresholds = roc_curve(target_test, probabilites_one_test)\n",
    "\n",
    "\n",
    "plt.plot(fpr, tpr)\n",
    "plt.xlim([0.0, 1.0])\n",
    "plt.ylim([0.0, 1.0])\n",
    "plt.xlabel('False Positive Rate')\n",
    "plt.ylabel('True Positive Rate')\n",
    "plt.title('ROC-кривая') \n",
    "plt.show()\n",
    "confusion_matrix(target_test, predictions)"
   ]
  },
  {
   "cell_type": "markdown",
   "metadata": {},
   "source": [
    "Метрики стали лучше"
   ]
  },
  {
   "cell_type": "markdown",
   "metadata": {},
   "source": [
    "## Общий вывод"
   ]
  },
  {
   "attachments": {
    "image-2.png": {
     "image/png": "[encoded data removed]"
    }
   },
   "cell_type": "markdown",
   "metadata": {},
   "source": [
    "Лучше всего предсказывает факт ухода клиента из банка ансамбль деревьев. С параметрами глубины в 9 и количеством деревьев 190 получилось достичь следующих метрик:\n",
    "\n",
    "roc_auc_score 0.87\n",
    "\n",
    "recall 0.74\n",
    "\n",
    "precision 0.57\n",
    "\n",
    "f1_score 0.64\n",
    "\n",
    "\n",
    "|             | True 0 | True 1 |\n",
    "|-------------|--------|--------|\n",
    "| Predicted 0 | 1334   | 239    |\n",
    "| Predicted 1 | 113    | 314    |\n",
    "\n",
    "\n",
    "\n",
    "\n",
    "![image-2.png](attachment:image-2.png)"
   ]
  }
 ],
 "metadata": {
  "ExecuteTimeLog": [
   {
    "duration": 445,
    "start_time": "2023-04-29T20:06:37.187Z"
   },
   {
    "duration": 110,
    "start_time": "2023-04-29T20:07:41.529Z"
   },
   {
    "duration": 22,
    "start_time": "2023-04-29T20:08:07.214Z"
   },
   {
    "duration": 28,
    "start_time": "2023-04-29T20:09:18.835Z"
   },
   {
    "duration": 5,
    "start_time": "2023-04-29T20:10:01.824Z"
   },
   {
    "duration": 9,
    "start_time": "2023-04-29T20:10:13.008Z"
   },
   {
    "duration": 110,
    "start_time": "2023-04-29T20:10:17.195Z"
   },
   {
    "duration": 18,
    "start_time": "2023-04-29T20:10:24.260Z"
   },
   {
    "duration": 8,
    "start_time": "2023-04-29T20:10:28.477Z"
   },
   {
    "duration": 11,
    "start_time": "2023-04-29T20:10:57.166Z"
   },
   {
    "duration": 8,
    "start_time": "2023-04-29T20:11:18.794Z"
   },
   {
    "duration": 7,
    "start_time": "2023-04-29T20:11:32.197Z"
   },
   {
    "duration": 8,
    "start_time": "2023-04-29T20:11:40.677Z"
   },
   {
    "duration": 7,
    "start_time": "2023-04-29T20:11:59.370Z"
   },
   {
    "duration": 9,
    "start_time": "2023-04-29T20:12:05.446Z"
   },
   {
    "duration": 6,
    "start_time": "2023-04-29T20:13:19.393Z"
   },
   {
    "duration": 30,
    "start_time": "2023-04-29T20:13:32.982Z"
   },
   {
    "duration": 8,
    "start_time": "2023-04-29T20:13:48.982Z"
   },
   {
    "duration": 6,
    "start_time": "2023-04-29T20:14:00.113Z"
   },
   {
    "duration": 6,
    "start_time": "2023-04-29T20:14:10.672Z"
   },
   {
    "duration": 6,
    "start_time": "2023-04-29T20:14:22.881Z"
   },
   {
    "duration": 7,
    "start_time": "2023-04-29T20:14:40.035Z"
   },
   {
    "duration": 14,
    "start_time": "2023-04-29T20:14:50.067Z"
   },
   {
    "duration": 6,
    "start_time": "2023-04-29T20:15:00.703Z"
   },
   {
    "duration": 7,
    "start_time": "2023-04-29T20:15:08.473Z"
   },
   {
    "duration": 6,
    "start_time": "2023-04-29T20:15:23.967Z"
   },
   {
    "duration": 19,
    "start_time": "2023-04-29T20:15:41.271Z"
   },
   {
    "duration": 9,
    "start_time": "2023-04-29T20:15:55.162Z"
   },
   {
    "duration": 6,
    "start_time": "2023-04-29T20:16:11.011Z"
   },
   {
    "duration": 16,
    "start_time": "2023-04-29T20:16:22.063Z"
   },
   {
    "duration": 5,
    "start_time": "2023-04-29T20:16:35.111Z"
   },
   {
    "duration": 47,
    "start_time": "2023-04-29T20:16:49.066Z"
   },
   {
    "duration": 15,
    "start_time": "2023-04-29T20:16:49.707Z"
   },
   {
    "duration": 5,
    "start_time": "2023-04-29T20:16:50.620Z"
   },
   {
    "duration": 1092,
    "start_time": "2023-04-29T20:16:51.513Z"
   },
   {
    "duration": 5,
    "start_time": "2023-04-29T20:16:55.879Z"
   },
   {
    "duration": 8,
    "start_time": "2023-04-29T20:18:20.515Z"
   },
   {
    "duration": 9,
    "start_time": "2023-04-29T20:18:37.274Z"
   },
   {
    "duration": 8,
    "start_time": "2023-04-29T20:19:12.782Z"
   },
   {
    "duration": 945,
    "start_time": "2023-04-29T20:21:55.980Z"
   },
   {
    "duration": 3,
    "start_time": "2023-04-29T20:22:14.386Z"
   },
   {
    "duration": 3,
    "start_time": "2023-04-29T20:22:48.381Z"
   },
   {
    "duration": 258,
    "start_time": "2023-04-29T20:23:46.812Z"
   },
   {
    "duration": 384,
    "start_time": "2023-04-29T20:24:03.588Z"
   },
   {
    "duration": 15,
    "start_time": "2023-04-29T20:27:21.010Z"
   },
   {
    "duration": 7,
    "start_time": "2023-04-29T20:27:23.166Z"
   },
   {
    "duration": 15,
    "start_time": "2023-04-29T20:27:24.720Z"
   },
   {
    "duration": 840,
    "start_time": "2023-04-29T20:28:21.384Z"
   },
   {
    "duration": 78,
    "start_time": "2023-04-29T20:28:40.820Z"
   },
   {
    "duration": 75,
    "start_time": "2023-04-29T20:28:46.010Z"
   },
   {
    "duration": 219,
    "start_time": "2023-04-29T20:28:48.687Z"
   },
   {
    "duration": 70,
    "start_time": "2023-04-29T20:28:59.297Z"
   },
   {
    "duration": 595,
    "start_time": "2023-04-29T20:29:04.899Z"
   },
   {
    "duration": 51,
    "start_time": "2023-04-29T20:29:18.087Z"
   },
   {
    "duration": 475,
    "start_time": "2023-04-29T20:29:21.429Z"
   },
   {
    "duration": 3,
    "start_time": "2023-04-29T20:31:59.499Z"
   },
   {
    "duration": 49,
    "start_time": "2023-04-29T20:32:36.213Z"
   },
   {
    "duration": 4,
    "start_time": "2023-04-29T20:34:55.729Z"
   },
   {
    "duration": 44,
    "start_time": "2023-04-29T20:34:56.089Z"
   },
   {
    "duration": 26,
    "start_time": "2023-04-29T20:39:59.105Z"
   },
   {
    "duration": 17,
    "start_time": "2023-04-29T20:40:26.971Z"
   },
   {
    "duration": 28,
    "start_time": "2023-04-29T20:41:13.317Z"
   },
   {
    "duration": 24,
    "start_time": "2023-04-29T20:48:13.309Z"
   },
   {
    "duration": 1537,
    "start_time": "2023-04-29T20:48:35.412Z"
   },
   {
    "duration": 3,
    "start_time": "2023-04-29T20:55:36.533Z"
   },
   {
    "duration": 15,
    "start_time": "2023-04-29T20:56:03.668Z"
   },
   {
    "duration": 147,
    "start_time": "2023-04-29T20:56:17.795Z"
   },
   {
    "duration": 12,
    "start_time": "2023-04-29T20:56:27.888Z"
   },
   {
    "duration": 9,
    "start_time": "2023-04-29T20:58:45.540Z"
   },
   {
    "duration": 9,
    "start_time": "2023-04-29T20:59:06.063Z"
   },
   {
    "duration": 18,
    "start_time": "2023-04-29T20:59:39.330Z"
   },
   {
    "duration": 4,
    "start_time": "2023-04-29T21:02:30.026Z"
   },
   {
    "duration": 13,
    "start_time": "2023-04-29T21:02:49.100Z"
   },
   {
    "duration": 11,
    "start_time": "2023-04-29T21:04:34.312Z"
   },
   {
    "duration": 10,
    "start_time": "2023-04-29T21:05:08.874Z"
   },
   {
    "duration": 30,
    "start_time": "2023-04-29T21:05:35.627Z"
   },
   {
    "duration": 3,
    "start_time": "2023-04-29T21:05:48.186Z"
   },
   {
    "duration": 198,
    "start_time": "2023-04-29T21:05:50.188Z"
   },
   {
    "duration": 186,
    "start_time": "2023-04-29T21:06:37.105Z"
   },
   {
    "duration": 180,
    "start_time": "2023-04-29T21:07:26.217Z"
   },
   {
    "duration": 354,
    "start_time": "2023-04-29T21:07:47.967Z"
   },
   {
    "duration": 320,
    "start_time": "2023-04-29T21:08:20.297Z"
   },
   {
    "duration": 332,
    "start_time": "2023-04-29T21:08:48.485Z"
   },
   {
    "duration": 293,
    "start_time": "2023-04-29T21:09:27.762Z"
   },
   {
    "duration": 430,
    "start_time": "2023-04-29T21:09:50.038Z"
   },
   {
    "duration": 21,
    "start_time": "2023-04-29T21:11:17.659Z"
   },
   {
    "duration": 44,
    "start_time": "2023-04-29T21:11:44.270Z"
   },
   {
    "duration": 78,
    "start_time": "2023-04-29T21:11:49.902Z"
   },
   {
    "duration": 16,
    "start_time": "2023-04-29T21:11:55.274Z"
   },
   {
    "duration": 420,
    "start_time": "2023-04-29T21:12:09.665Z"
   },
   {
    "duration": 86,
    "start_time": "2023-04-29T21:12:44.758Z"
   },
   {
    "duration": 7,
    "start_time": "2023-04-29T21:12:58.655Z"
   },
   {
    "duration": 363,
    "start_time": "2023-04-29T21:13:00.723Z"
   },
   {
    "duration": 5,
    "start_time": "2023-04-29T21:13:34.394Z"
   },
   {
    "duration": 180,
    "start_time": "2023-04-29T21:13:59.184Z"
   },
   {
    "duration": 159,
    "start_time": "2023-04-29T21:14:09.692Z"
   },
   {
    "duration": 15,
    "start_time": "2023-04-29T21:15:05.391Z"
   },
   {
    "duration": 16,
    "start_time": "2023-04-29T21:15:20.611Z"
   },
   {
    "duration": 391,
    "start_time": "2023-04-29T21:15:39.327Z"
   },
   {
    "duration": 7,
    "start_time": "2023-04-29T21:19:43.342Z"
   },
   {
    "duration": 12,
    "start_time": "2023-04-29T21:19:46.945Z"
   },
   {
    "duration": 49,
    "start_time": "2023-04-30T21:04:36.378Z"
   },
   {
    "duration": 1113,
    "start_time": "2023-04-30T21:04:45.202Z"
   },
   {
    "duration": 343,
    "start_time": "2023-04-30T21:04:47.080Z"
   },
   {
    "duration": 16,
    "start_time": "2023-04-30T21:04:47.999Z"
   },
   {
    "duration": 6,
    "start_time": "2023-04-30T21:04:48.654Z"
   },
   {
    "duration": 15,
    "start_time": "2023-04-30T21:04:49.448Z"
   },
   {
    "duration": 18,
    "start_time": "2023-04-30T21:04:50.580Z"
   },
   {
    "duration": 2,
    "start_time": "2023-04-30T21:04:51.442Z"
   },
   {
    "duration": 27,
    "start_time": "2023-04-30T21:04:51.957Z"
   },
   {
    "duration": 481,
    "start_time": "2023-04-30T21:04:52.914Z"
   },
   {
    "duration": 31,
    "start_time": "2023-04-30T21:04:54.156Z"
   },
   {
    "duration": 95,
    "start_time": "2023-04-30T21:04:55.218Z"
   },
   {
    "duration": 13,
    "start_time": "2023-04-30T21:04:56.163Z"
   },
   {
    "duration": 233,
    "start_time": "2023-04-30T21:04:57.146Z"
   },
   {
    "duration": 12,
    "start_time": "2023-04-30T21:04:58.036Z"
   },
   {
    "duration": 272,
    "start_time": "2023-04-30T21:05:46.152Z"
   },
   {
    "duration": 13,
    "start_time": "2023-04-30T21:05:51.901Z"
   },
   {
    "duration": 7,
    "start_time": "2023-04-30T21:06:04.622Z"
   },
   {
    "duration": 9,
    "start_time": "2023-04-30T21:08:11.368Z"
   },
   {
    "duration": 20,
    "start_time": "2023-04-30T21:08:15.654Z"
   },
   {
    "duration": 20,
    "start_time": "2023-04-30T21:08:16.505Z"
   },
   {
    "duration": 10,
    "start_time": "2023-04-30T21:08:17.401Z"
   },
   {
    "duration": 20,
    "start_time": "2023-04-30T21:20:48.505Z"
   },
   {
    "duration": 46,
    "start_time": "2023-04-30T21:21:02.834Z"
   },
   {
    "duration": 46,
    "start_time": "2023-04-30T21:21:38.944Z"
   },
   {
    "duration": 338,
    "start_time": "2023-04-30T21:24:23.083Z"
   },
   {
    "duration": 203,
    "start_time": "2023-04-30T21:24:27.122Z"
   },
   {
    "duration": 404,
    "start_time": "2023-04-30T21:24:44.508Z"
   },
   {
    "duration": 257,
    "start_time": "2023-04-30T21:25:19.261Z"
   },
   {
    "duration": 10,
    "start_time": "2023-04-30T21:25:45.499Z"
   },
   {
    "duration": 302,
    "start_time": "2023-04-30T21:25:47.387Z"
   },
   {
    "duration": 6,
    "start_time": "2023-04-30T21:25:49.996Z"
   },
   {
    "duration": 3,
    "start_time": "2023-04-30T21:25:51.027Z"
   },
   {
    "duration": 40,
    "start_time": "2023-04-30T21:25:51.665Z"
   },
   {
    "duration": 442,
    "start_time": "2023-04-30T21:25:52.369Z"
   },
   {
    "duration": 17,
    "start_time": "2023-04-30T21:26:14.387Z"
   },
   {
    "duration": 15,
    "start_time": "2023-04-30T21:26:41.075Z"
   },
   {
    "duration": 186,
    "start_time": "2023-04-30T21:26:57.110Z"
   },
   {
    "duration": 262,
    "start_time": "2023-04-30T21:27:57.151Z"
   },
   {
    "duration": 189,
    "start_time": "2023-04-30T21:28:01.437Z"
   },
   {
    "duration": 603,
    "start_time": "2023-04-30T21:28:07.638Z"
   },
   {
    "duration": 197,
    "start_time": "2023-04-30T21:28:16.195Z"
   },
   {
    "duration": 397,
    "start_time": "2023-04-30T21:28:33.543Z"
   },
   {
    "duration": 370,
    "start_time": "2023-04-30T21:28:36.058Z"
   },
   {
    "duration": 56,
    "start_time": "2023-04-30T21:28:42.162Z"
   },
   {
    "duration": 134,
    "start_time": "2023-04-30T21:28:49.223Z"
   },
   {
    "duration": 106,
    "start_time": "2023-04-30T21:28:53.759Z"
   },
   {
    "duration": 57,
    "start_time": "2023-04-30T21:28:57.538Z"
   },
   {
    "duration": 88,
    "start_time": "2023-04-30T21:29:06.487Z"
   },
   {
    "duration": 144,
    "start_time": "2023-04-30T21:37:39.936Z"
   },
   {
    "duration": 154,
    "start_time": "2023-04-30T21:40:21.606Z"
   },
   {
    "duration": 5,
    "start_time": "2023-04-30T21:41:14.632Z"
   },
   {
    "duration": 161,
    "start_time": "2023-04-30T21:41:19.397Z"
   },
   {
    "duration": 1690,
    "start_time": "2023-04-30T21:41:31.693Z"
   },
   {
    "duration": 173,
    "start_time": "2023-04-30T21:42:16.716Z"
   },
   {
    "duration": 265,
    "start_time": "2023-04-30T21:42:49.932Z"
   },
   {
    "duration": 190,
    "start_time": "2023-04-30T21:42:58.009Z"
   },
   {
    "duration": 238,
    "start_time": "2023-04-30T21:46:23.710Z"
   },
   {
    "duration": 69,
    "start_time": "2023-04-30T21:56:12.951Z"
   },
   {
    "duration": 125,
    "start_time": "2023-04-30T21:56:28.357Z"
   },
   {
    "duration": 263,
    "start_time": "2023-04-30T21:56:37.392Z"
   },
   {
    "duration": 170,
    "start_time": "2023-04-30T21:57:59.621Z"
   },
   {
    "duration": 205,
    "start_time": "2023-04-30T21:59:20.058Z"
   },
   {
    "duration": 169,
    "start_time": "2023-04-30T21:59:25.924Z"
   },
   {
    "duration": 140,
    "start_time": "2023-04-30T22:01:51.662Z"
   },
   {
    "duration": 77,
    "start_time": "2023-04-30T22:03:50.034Z"
   },
   {
    "duration": 132,
    "start_time": "2023-04-30T22:03:56.131Z"
   },
   {
    "duration": 11,
    "start_time": "2023-04-30T22:06:00.172Z"
   },
   {
    "duration": 12,
    "start_time": "2023-04-30T22:06:04.747Z"
   },
   {
    "duration": 19,
    "start_time": "2023-04-30T22:08:36.946Z"
   },
   {
    "duration": 14,
    "start_time": "2023-04-30T22:09:29.332Z"
   },
   {
    "duration": 2530,
    "start_time": "2023-04-30T22:09:41.976Z"
   },
   {
    "duration": 9809,
    "start_time": "2023-04-30T22:10:15.233Z"
   },
   {
    "duration": 22407,
    "start_time": "2023-04-30T22:11:03.201Z"
   },
   {
    "duration": 2832,
    "start_time": "2023-04-30T22:11:40.443Z"
   },
   {
    "duration": 572,
    "start_time": "2023-04-30T22:12:24.845Z"
   },
   {
    "duration": 35,
    "start_time": "2023-04-30T22:36:12.934Z"
   },
   {
    "duration": 32,
    "start_time": "2023-04-30T22:36:40.701Z"
   },
   {
    "duration": 5,
    "start_time": "2023-04-30T22:36:42.221Z"
   },
   {
    "duration": 33,
    "start_time": "2023-04-30T22:36:43.205Z"
   },
   {
    "duration": 6,
    "start_time": "2023-04-30T22:36:45.120Z"
   },
   {
    "duration": 30,
    "start_time": "2023-04-30T22:36:46.100Z"
   },
   {
    "duration": 13,
    "start_time": "2023-04-30T22:36:46.571Z"
   },
   {
    "duration": 20,
    "start_time": "2023-04-30T22:37:15.027Z"
   },
   {
    "duration": 4,
    "start_time": "2023-04-30T22:37:15.801Z"
   },
   {
    "duration": 38,
    "start_time": "2023-04-30T22:37:16.125Z"
   },
   {
    "duration": 5,
    "start_time": "2023-04-30T22:37:17.566Z"
   },
   {
    "duration": 27,
    "start_time": "2023-04-30T22:37:18.010Z"
   },
   {
    "duration": 107,
    "start_time": "2023-04-30T22:37:19.329Z"
   },
   {
    "duration": 11,
    "start_time": "2023-04-30T22:38:33.129Z"
   },
   {
    "duration": 301,
    "start_time": "2023-04-30T22:38:33.750Z"
   },
   {
    "duration": 7,
    "start_time": "2023-04-30T22:38:34.054Z"
   },
   {
    "duration": 8,
    "start_time": "2023-04-30T22:38:35.309Z"
   },
   {
    "duration": 52,
    "start_time": "2023-04-30T22:38:35.910Z"
   },
   {
    "duration": 71,
    "start_time": "2023-04-30T22:38:36.446Z"
   },
   {
    "duration": 214,
    "start_time": "2023-04-30T22:38:38.854Z"
   },
   {
    "duration": 162,
    "start_time": "2023-04-30T22:38:40.591Z"
   },
   {
    "duration": 3,
    "start_time": "2023-04-30T22:38:45.328Z"
   },
   {
    "duration": 475,
    "start_time": "2023-04-30T22:38:45.694Z"
   },
   {
    "duration": 8602,
    "start_time": "2023-04-30T22:39:18.665Z"
   },
   {
    "duration": 720,
    "start_time": "2023-04-30T22:41:44.548Z"
   },
   {
    "duration": 664,
    "start_time": "2023-04-30T22:42:25.472Z"
   },
   {
    "duration": 687,
    "start_time": "2023-04-30T22:42:33.312Z"
   },
   {
    "duration": 110,
    "start_time": "2023-04-30T22:47:40.529Z"
   },
   {
    "duration": 87,
    "start_time": "2023-04-30T22:48:08.540Z"
   },
   {
    "duration": 181,
    "start_time": "2023-04-30T22:49:15.653Z"
   },
   {
    "duration": 195,
    "start_time": "2023-04-30T22:50:30.602Z"
   },
   {
    "duration": 702,
    "start_time": "2023-04-30T22:51:02.317Z"
   },
   {
    "duration": 74,
    "start_time": "2023-04-30T22:51:47.856Z"
   },
   {
    "duration": 1033,
    "start_time": "2023-04-30T22:55:25.041Z"
   },
   {
    "duration": 1481,
    "start_time": "2023-04-30T22:55:36.849Z"
   },
   {
    "duration": 826,
    "start_time": "2023-04-30T22:55:44.187Z"
   },
   {
    "duration": 121,
    "start_time": "2023-04-30T23:02:39.003Z"
   },
   {
    "duration": 47,
    "start_time": "2023-04-30T23:02:57.279Z"
   },
   {
    "duration": 158,
    "start_time": "2023-04-30T23:03:21.406Z"
   },
   {
    "duration": 822,
    "start_time": "2023-04-30T23:03:51.820Z"
   },
   {
    "duration": 137,
    "start_time": "2023-04-30T23:06:05.377Z"
   },
   {
    "duration": 179,
    "start_time": "2023-04-30T23:06:17.240Z"
   },
   {
    "duration": 99,
    "start_time": "2023-04-30T23:06:22.614Z"
   },
   {
    "duration": 23,
    "start_time": "2023-04-30T23:07:07.826Z"
   },
   {
    "duration": 153,
    "start_time": "2023-04-30T23:07:26.363Z"
   },
   {
    "duration": 28,
    "start_time": "2023-04-30T23:07:32.879Z"
   },
   {
    "duration": 62,
    "start_time": "2023-04-30T23:07:55.179Z"
   },
   {
    "duration": 45,
    "start_time": "2023-04-30T23:09:53.790Z"
   },
   {
    "duration": 67,
    "start_time": "2023-04-30T23:10:00.450Z"
   },
   {
    "duration": 29,
    "start_time": "2023-04-30T23:10:02.256Z"
   },
   {
    "duration": 58,
    "start_time": "2023-04-30T23:10:04.316Z"
   },
   {
    "duration": 80,
    "start_time": "2023-04-30T23:11:12.711Z"
   },
   {
    "duration": 35,
    "start_time": "2023-04-30T23:11:17.252Z"
   },
   {
    "duration": 39,
    "start_time": "2023-04-30T23:11:23.181Z"
   },
   {
    "duration": 31,
    "start_time": "2023-04-30T23:11:24.286Z"
   },
   {
    "duration": 65,
    "start_time": "2023-04-30T23:11:25.488Z"
   },
   {
    "duration": 36,
    "start_time": "2023-04-30T23:13:19.527Z"
   },
   {
    "duration": 50,
    "start_time": "2023-04-30T23:13:36.683Z"
   },
   {
    "duration": 39,
    "start_time": "2023-04-30T23:13:52.422Z"
   },
   {
    "duration": 104,
    "start_time": "2023-04-30T23:14:05.210Z"
   },
   {
    "duration": 21,
    "start_time": "2023-04-30T23:14:12.536Z"
   },
   {
    "duration": 68,
    "start_time": "2023-04-30T23:14:15.400Z"
   },
   {
    "duration": 30,
    "start_time": "2023-04-30T23:16:22.715Z"
   },
   {
    "duration": 4,
    "start_time": "2023-04-30T23:16:24.150Z"
   },
   {
    "duration": 31,
    "start_time": "2023-04-30T23:16:24.813Z"
   },
   {
    "duration": 15,
    "start_time": "2023-04-30T23:16:25.483Z"
   },
   {
    "duration": 13,
    "start_time": "2023-04-30T23:16:26.218Z"
   },
   {
    "duration": 321,
    "start_time": "2023-04-30T23:16:26.995Z"
   },
   {
    "duration": 7,
    "start_time": "2023-04-30T23:16:27.510Z"
   },
   {
    "duration": 4,
    "start_time": "2023-04-30T23:16:28.320Z"
   },
   {
    "duration": 24,
    "start_time": "2023-04-30T23:16:28.600Z"
   },
   {
    "duration": 79,
    "start_time": "2023-04-30T23:16:28.940Z"
   },
   {
    "duration": 150,
    "start_time": "2023-04-30T23:16:30.018Z"
   },
   {
    "duration": 128,
    "start_time": "2023-04-30T23:16:31.388Z"
   },
   {
    "duration": 3,
    "start_time": "2023-04-30T23:16:32.482Z"
   },
   {
    "duration": 6091,
    "start_time": "2023-04-30T23:16:32.851Z"
   },
   {
    "duration": 500,
    "start_time": "2023-04-30T23:16:38.945Z"
   },
   {
    "duration": 207,
    "start_time": "2023-04-30T23:16:43.107Z"
   },
   {
    "duration": 151,
    "start_time": "2023-04-30T23:16:45.260Z"
   },
   {
    "duration": 617,
    "start_time": "2023-04-30T23:16:47.426Z"
   },
   {
    "duration": 114,
    "start_time": "2023-04-30T23:16:51.610Z"
   },
   {
    "duration": 25,
    "start_time": "2023-04-30T23:16:55.702Z"
   },
   {
    "duration": 61,
    "start_time": "2023-04-30T23:16:58.239Z"
   },
   {
    "duration": 4,
    "start_time": "2023-04-30T23:19:08.281Z"
   },
   {
    "duration": 48,
    "start_time": "2023-04-30T23:19:08.837Z"
   },
   {
    "duration": 19,
    "start_time": "2023-04-30T23:19:09.362Z"
   },
   {
    "duration": 6,
    "start_time": "2023-04-30T23:19:09.920Z"
   },
   {
    "duration": 8,
    "start_time": "2023-04-30T23:19:10.938Z"
   },
   {
    "duration": 19,
    "start_time": "2023-04-30T23:19:12.518Z"
   },
   {
    "duration": 3,
    "start_time": "2023-04-30T23:19:13.502Z"
   },
   {
    "duration": 32,
    "start_time": "2023-04-30T23:19:14.053Z"
   },
   {
    "duration": 4,
    "start_time": "2023-04-30T23:19:33.602Z"
   },
   {
    "duration": 26,
    "start_time": "2023-04-30T23:19:34.290Z"
   },
   {
    "duration": 20,
    "start_time": "2023-04-30T23:19:35.408Z"
   },
   {
    "duration": 9,
    "start_time": "2023-04-30T23:19:36.435Z"
   },
   {
    "duration": 272,
    "start_time": "2023-04-30T23:19:37.528Z"
   },
   {
    "duration": 7,
    "start_time": "2023-04-30T23:19:41.567Z"
   },
   {
    "duration": 3,
    "start_time": "2023-04-30T23:19:44.327Z"
   },
   {
    "duration": 35,
    "start_time": "2023-04-30T23:19:47.947Z"
   },
   {
    "duration": 72,
    "start_time": "2023-04-30T23:19:49.012Z"
   },
   {
    "duration": 176,
    "start_time": "2023-04-30T23:20:01.917Z"
   },
   {
    "duration": 126,
    "start_time": "2023-04-30T23:20:04.374Z"
   },
   {
    "duration": 3,
    "start_time": "2023-04-30T23:20:07.756Z"
   },
   {
    "duration": 8095,
    "start_time": "2023-04-30T23:20:08.294Z"
   },
   {
    "duration": 593,
    "start_time": "2023-04-30T23:20:27.085Z"
   },
   {
    "duration": 191,
    "start_time": "2023-04-30T23:20:41.422Z"
   },
   {
    "duration": 164,
    "start_time": "2023-04-30T23:20:48.411Z"
   },
   {
    "duration": 808,
    "start_time": "2023-04-30T23:20:55.350Z"
   },
   {
    "duration": 48,
    "start_time": "2023-04-30T23:21:08.481Z"
   },
   {
    "duration": 23,
    "start_time": "2023-04-30T23:21:11.201Z"
   },
   {
    "duration": 61,
    "start_time": "2023-04-30T23:21:14.152Z"
   },
   {
    "duration": 52,
    "start_time": "2023-05-01T20:17:00.281Z"
   },
   {
    "duration": 1145,
    "start_time": "2023-05-01T20:17:04.383Z"
   },
   {
    "duration": 75,
    "start_time": "2023-05-01T20:17:06.655Z"
   },
   {
    "duration": 15,
    "start_time": "2023-05-01T20:17:07.648Z"
   },
   {
    "duration": 11,
    "start_time": "2023-05-01T20:17:08.342Z"
   },
   {
    "duration": 15,
    "start_time": "2023-05-01T20:17:19.888Z"
   },
   {
    "duration": 63,
    "start_time": "2023-05-01T20:28:24.146Z"
   },
   {
    "duration": 54,
    "start_time": "2023-05-01T20:28:37.459Z"
   },
   {
    "duration": 52,
    "start_time": "2023-05-01T20:28:55.448Z"
   },
   {
    "duration": 451,
    "start_time": "2023-05-01T20:31:47.097Z"
   },
   {
    "duration": 400,
    "start_time": "2023-05-01T20:34:01.635Z"
   },
   {
    "duration": 17,
    "start_time": "2023-05-01T20:42:28.213Z"
   },
   {
    "duration": 13,
    "start_time": "2023-05-01T20:45:29.039Z"
   },
   {
    "duration": 12,
    "start_time": "2023-05-01T20:45:36.907Z"
   },
   {
    "duration": 250,
    "start_time": "2023-05-01T20:45:48.709Z"
   },
   {
    "duration": 257,
    "start_time": "2023-05-01T20:50:20.380Z"
   },
   {
    "duration": 417,
    "start_time": "2023-05-01T20:51:47.688Z"
   },
   {
    "duration": 73,
    "start_time": "2023-05-01T20:52:15.817Z"
   },
   {
    "duration": 13,
    "start_time": "2023-05-01T20:52:42.655Z"
   },
   {
    "duration": 279,
    "start_time": "2023-05-01T20:53:05.831Z"
   },
   {
    "duration": 256,
    "start_time": "2023-05-01T20:54:30.350Z"
   },
   {
    "duration": 269,
    "start_time": "2023-05-01T20:54:56.491Z"
   },
   {
    "duration": 256,
    "start_time": "2023-05-01T20:56:35.929Z"
   },
   {
    "duration": 24,
    "start_time": "2023-05-01T20:58:48.503Z"
   },
   {
    "duration": 166,
    "start_time": "2023-05-01T21:09:44.463Z"
   },
   {
    "duration": 170,
    "start_time": "2023-05-01T21:09:55.611Z"
   },
   {
    "duration": 160,
    "start_time": "2023-05-01T21:10:24.257Z"
   },
   {
    "duration": 348,
    "start_time": "2023-05-01T21:10:52.763Z"
   },
   {
    "duration": 273,
    "start_time": "2023-05-01T21:11:06.589Z"
   },
   {
    "duration": 44,
    "start_time": "2023-05-01T21:11:52.373Z"
   },
   {
    "duration": 147,
    "start_time": "2023-05-01T21:12:13.577Z"
   },
   {
    "duration": 144,
    "start_time": "2023-05-01T21:12:51.181Z"
   },
   {
    "duration": 155,
    "start_time": "2023-05-01T21:13:02.698Z"
   },
   {
    "duration": 170,
    "start_time": "2023-05-01T21:13:29.961Z"
   },
   {
    "duration": 154,
    "start_time": "2023-05-01T21:14:18.521Z"
   },
   {
    "duration": 152,
    "start_time": "2023-05-01T21:14:55.407Z"
   },
   {
    "duration": 163,
    "start_time": "2023-05-01T21:15:16.047Z"
   },
   {
    "duration": 162,
    "start_time": "2023-05-01T21:16:22.139Z"
   },
   {
    "duration": 171,
    "start_time": "2023-05-01T21:17:36.016Z"
   },
   {
    "duration": 150,
    "start_time": "2023-05-01T21:18:27.987Z"
   },
   {
    "duration": 74,
    "start_time": "2023-05-01T21:18:46.549Z"
   },
   {
    "duration": 39,
    "start_time": "2023-05-01T21:19:35.017Z"
   },
   {
    "duration": 31,
    "start_time": "2023-05-01T21:20:02.474Z"
   },
   {
    "duration": 259,
    "start_time": "2023-05-01T21:43:56.423Z"
   },
   {
    "duration": 19,
    "start_time": "2023-05-01T21:47:11.484Z"
   },
   {
    "duration": 21,
    "start_time": "2023-05-01T21:47:38.666Z"
   },
   {
    "duration": 22,
    "start_time": "2023-05-01T21:48:08.350Z"
   },
   {
    "duration": 22,
    "start_time": "2023-05-01T21:48:48.457Z"
   },
   {
    "duration": 22,
    "start_time": "2023-05-01T21:49:41.696Z"
   },
   {
    "duration": 9,
    "start_time": "2023-05-01T21:50:42.817Z"
   },
   {
    "duration": 15,
    "start_time": "2023-05-01T21:50:52.247Z"
   },
   {
    "duration": 10,
    "start_time": "2023-05-01T21:50:57.297Z"
   },
   {
    "duration": 3,
    "start_time": "2023-05-01T21:51:02.065Z"
   },
   {
    "duration": 28,
    "start_time": "2023-05-01T21:51:02.418Z"
   },
   {
    "duration": 23,
    "start_time": "2023-05-01T21:52:41.357Z"
   },
   {
    "duration": 28,
    "start_time": "2023-05-01T21:53:23.389Z"
   },
   {
    "duration": 1109,
    "start_time": "2023-05-03T16:18:40.720Z"
   },
   {
    "duration": 181,
    "start_time": "2023-05-03T16:18:44.354Z"
   },
   {
    "duration": 13,
    "start_time": "2023-05-03T16:18:45.565Z"
   },
   {
    "duration": 5,
    "start_time": "2023-05-03T16:18:46.346Z"
   },
   {
    "duration": 11,
    "start_time": "2023-05-03T16:18:47.777Z"
   },
   {
    "duration": 23,
    "start_time": "2023-05-03T16:18:50.053Z"
   },
   {
    "duration": 2,
    "start_time": "2023-05-03T16:18:52.601Z"
   },
   {
    "duration": 27,
    "start_time": "2023-05-03T16:18:59.187Z"
   },
   {
    "duration": 447,
    "start_time": "2023-05-03T16:19:08.690Z"
   },
   {
    "duration": 20,
    "start_time": "2023-05-03T16:19:32.825Z"
   },
   {
    "duration": 11,
    "start_time": "2023-05-03T16:19:34.890Z"
   },
   {
    "duration": 9,
    "start_time": "2023-05-03T16:20:40.761Z"
   },
   {
    "duration": 266,
    "start_time": "2023-05-03T16:20:42.194Z"
   },
   {
    "duration": 6,
    "start_time": "2023-05-03T16:21:27.589Z"
   },
   {
    "duration": 20,
    "start_time": "2023-05-03T16:21:29.191Z"
   },
   {
    "duration": 35,
    "start_time": "2023-05-03T16:21:30.290Z"
   },
   {
    "duration": 73,
    "start_time": "2023-05-03T16:21:31.190Z"
   },
   {
    "duration": 135,
    "start_time": "2023-05-03T16:22:06.899Z"
   },
   {
    "duration": 113,
    "start_time": "2023-05-03T16:22:16.703Z"
   },
   {
    "duration": 10,
    "start_time": "2023-05-03T16:22:25.302Z"
   },
   {
    "duration": 7827,
    "start_time": "2023-05-03T16:22:28.240Z"
   },
   {
    "duration": 70537,
    "start_time": "2023-05-03T16:23:33.698Z"
   },
   {
    "duration": 68146,
    "start_time": "2023-05-03T16:25:55.907Z"
   },
   {
    "duration": 565,
    "start_time": "2023-05-03T16:29:35.428Z"
   },
   {
    "duration": 637,
    "start_time": "2023-05-03T16:30:07.702Z"
   },
   {
    "duration": 656,
    "start_time": "2023-05-03T16:30:17.116Z"
   },
   {
    "duration": 536,
    "start_time": "2023-05-03T16:30:22.507Z"
   },
   {
    "duration": 187,
    "start_time": "2023-05-03T16:30:27.382Z"
   },
   {
    "duration": 546,
    "start_time": "2023-05-03T16:30:30.685Z"
   },
   {
    "duration": 549,
    "start_time": "2023-05-03T16:30:35.975Z"
   },
   {
    "duration": 593,
    "start_time": "2023-05-03T16:30:41.807Z"
   },
   {
    "duration": 668,
    "start_time": "2023-05-03T16:30:46.929Z"
   },
   {
    "duration": 738,
    "start_time": "2023-05-03T16:30:52.088Z"
   },
   {
    "duration": 733,
    "start_time": "2023-05-03T16:30:59.761Z"
   },
   {
    "duration": 651,
    "start_time": "2023-05-03T16:31:05.936Z"
   },
   {
    "duration": 623,
    "start_time": "2023-05-03T16:31:10.988Z"
   },
   {
    "duration": 574,
    "start_time": "2023-05-03T16:31:21.787Z"
   },
   {
    "duration": 576,
    "start_time": "2023-05-03T16:31:48.793Z"
   },
   {
    "duration": 70318,
    "start_time": "2023-05-03T16:32:37.789Z"
   },
   {
    "duration": 53,
    "start_time": "2023-05-03T16:34:53.560Z"
   },
   {
    "duration": 64,
    "start_time": "2023-05-03T16:35:18.841Z"
   },
   {
    "duration": 67,
    "start_time": "2023-05-03T16:35:41.740Z"
   },
   {
    "duration": 4466,
    "start_time": "2023-05-03T16:35:50.918Z"
   },
   {
    "duration": 4528,
    "start_time": "2023-05-03T16:36:29.192Z"
   },
   {
    "duration": 4295,
    "start_time": "2023-05-03T16:36:35.820Z"
   },
   {
    "duration": 4448,
    "start_time": "2023-05-03T16:37:14.212Z"
   },
   {
    "duration": 4378,
    "start_time": "2023-05-03T16:37:32.499Z"
   },
   {
    "duration": 4,
    "start_time": "2023-05-03T16:39:36.667Z"
   },
   {
    "duration": 4,
    "start_time": "2023-05-03T16:39:51.591Z"
   },
   {
    "duration": 235,
    "start_time": "2023-05-03T16:42:07.514Z"
   },
   {
    "duration": 327,
    "start_time": "2023-05-03T16:45:51.367Z"
   },
   {
    "duration": 233,
    "start_time": "2023-05-03T16:46:21.815Z"
   },
   {
    "duration": 52117,
    "start_time": "2023-05-03T16:46:26.216Z"
   },
   {
    "duration": 27711,
    "start_time": "2023-05-03T16:47:54.255Z"
   },
   {
    "duration": 1958,
    "start_time": "2023-05-03T16:49:32.385Z"
   },
   {
    "duration": 1957,
    "start_time": "2023-05-03T16:50:07.415Z"
   },
   {
    "duration": 1952,
    "start_time": "2023-05-03T16:50:36.709Z"
   },
   {
    "duration": 253,
    "start_time": "2023-05-03T16:51:08.509Z"
   },
   {
    "duration": 2029,
    "start_time": "2023-05-03T16:51:13.149Z"
   },
   {
    "duration": 2032,
    "start_time": "2023-05-03T16:51:29.697Z"
   },
   {
    "duration": 148,
    "start_time": "2023-05-03T16:52:27.707Z"
   },
   {
    "duration": 2300,
    "start_time": "2023-05-03T16:52:35.256Z"
   },
   {
    "duration": 68,
    "start_time": "2023-05-03T16:53:06.892Z"
   },
   {
    "duration": 3,
    "start_time": "2023-05-03T16:53:39.532Z"
   },
   {
    "duration": 3,
    "start_time": "2023-05-03T16:54:18.035Z"
   },
   {
    "duration": 2344,
    "start_time": "2023-05-03T16:55:46.364Z"
   },
   {
    "duration": 49,
    "start_time": "2023-05-03T16:56:37.933Z"
   },
   {
    "duration": 2505,
    "start_time": "2023-05-03T16:58:06.963Z"
   },
   {
    "duration": 4,
    "start_time": "2023-05-03T16:59:23.402Z"
   },
   {
    "duration": 3,
    "start_time": "2023-05-03T16:59:37.654Z"
   },
   {
    "duration": 328,
    "start_time": "2023-05-03T17:00:29.627Z"
   },
   {
    "duration": 11,
    "start_time": "2023-05-03T17:00:46.014Z"
   },
   {
    "duration": 4,
    "start_time": "2023-05-03T17:00:58.269Z"
   },
   {
    "duration": 3,
    "start_time": "2023-05-03T17:01:25.489Z"
   },
   {
    "duration": 619,
    "start_time": "2023-05-03T17:02:37.953Z"
   },
   {
    "duration": 161,
    "start_time": "2023-05-03T17:03:49.448Z"
   },
   {
    "duration": 2331,
    "start_time": "2023-05-03T17:05:29.595Z"
   },
   {
    "duration": 2368,
    "start_time": "2023-05-03T17:05:48.036Z"
   },
   {
    "duration": 2282,
    "start_time": "2023-05-03T17:06:00.780Z"
   },
   {
    "duration": 2489,
    "start_time": "2023-05-03T17:06:07.988Z"
   },
   {
    "duration": 2399,
    "start_time": "2023-05-03T17:06:34.381Z"
   },
   {
    "duration": 79,
    "start_time": "2023-05-03T17:08:18.660Z"
   },
   {
    "duration": 179,
    "start_time": "2023-05-03T17:08:36.254Z"
   },
   {
    "duration": 2371,
    "start_time": "2023-05-03T17:10:08.199Z"
   },
   {
    "duration": 182,
    "start_time": "2023-05-03T17:10:52.885Z"
   },
   {
    "duration": 431,
    "start_time": "2023-05-03T17:13:22.553Z"
   },
   {
    "duration": 747,
    "start_time": "2023-05-03T17:14:59.784Z"
   },
   {
    "duration": 737,
    "start_time": "2023-05-03T17:15:20.927Z"
   },
   {
    "duration": 622,
    "start_time": "2023-05-03T17:15:39.574Z"
   },
   {
    "duration": 4,
    "start_time": "2023-05-03T17:19:02.314Z"
   },
   {
    "duration": 2,
    "start_time": "2023-05-03T17:30:55.463Z"
   },
   {
    "duration": 2,
    "start_time": "2023-05-03T17:33:42.669Z"
   },
   {
    "duration": 63,
    "start_time": "2023-05-03T17:35:23.005Z"
   },
   {
    "duration": 10,
    "start_time": "2023-05-03T17:35:51.786Z"
   },
   {
    "duration": 9,
    "start_time": "2023-05-03T17:36:25.952Z"
   },
   {
    "duration": 8,
    "start_time": "2023-05-03T17:37:38.774Z"
   },
   {
    "duration": 11,
    "start_time": "2023-05-03T17:38:15.809Z"
   },
   {
    "duration": 163,
    "start_time": "2023-05-03T17:38:31.409Z"
   },
   {
    "duration": 16,
    "start_time": "2023-05-03T17:40:25.910Z"
   },
   {
    "duration": 4,
    "start_time": "2023-05-03T17:41:27.705Z"
   },
   {
    "duration": 54,
    "start_time": "2023-05-03T17:41:42.257Z"
   },
   {
    "duration": 100,
    "start_time": "2023-05-03T17:42:01.772Z"
   },
   {
    "duration": 10,
    "start_time": "2023-05-03T17:42:27.462Z"
   },
   {
    "duration": 186,
    "start_time": "2023-05-03T17:42:29.720Z"
   },
   {
    "duration": 1009,
    "start_time": "2023-05-04T23:09:46.056Z"
   },
   {
    "duration": 168,
    "start_time": "2023-05-04T23:09:47.295Z"
   },
   {
    "duration": 13,
    "start_time": "2023-05-04T23:09:48.488Z"
   },
   {
    "duration": 5,
    "start_time": "2023-05-04T23:09:49.117Z"
   },
   {
    "duration": 9,
    "start_time": "2023-05-04T23:09:50.426Z"
   },
   {
    "duration": 25,
    "start_time": "2023-05-04T23:09:54.617Z"
   },
   {
    "duration": 4,
    "start_time": "2023-05-04T23:09:56.553Z"
   },
   {
    "duration": 28,
    "start_time": "2023-05-04T23:09:57.177Z"
   },
   {
    "duration": 392,
    "start_time": "2023-05-04T23:09:59.142Z"
   },
   {
    "duration": 18,
    "start_time": "2023-05-04T23:09:59.840Z"
   },
   {
    "duration": 100,
    "start_time": "2023-05-04T23:10:00.838Z"
   },
   {
    "duration": 8,
    "start_time": "2023-05-04T23:10:01.841Z"
   },
   {
    "duration": 245,
    "start_time": "2023-05-04T23:10:02.777Z"
   },
   {
    "duration": 7,
    "start_time": "2023-05-04T23:10:04.711Z"
   },
   {
    "duration": 19,
    "start_time": "2023-05-04T23:10:06.050Z"
   },
   {
    "duration": 30,
    "start_time": "2023-05-04T23:10:07.000Z"
   },
   {
    "duration": 56,
    "start_time": "2023-05-04T23:10:07.590Z"
   },
   {
    "duration": 131,
    "start_time": "2023-05-04T23:10:09.144Z"
   },
   {
    "duration": 107,
    "start_time": "2023-05-04T23:10:18.668Z"
   },
   {
    "duration": 11,
    "start_time": "2023-05-04T23:10:23.123Z"
   },
   {
    "duration": 60410,
    "start_time": "2023-05-04T23:10:24.007Z"
   },
   {
    "duration": 4298,
    "start_time": "2023-05-04T23:11:24.419Z"
   },
   {
    "duration": 4,
    "start_time": "2023-05-04T23:11:43.625Z"
   },
   {
    "duration": 4,
    "start_time": "2023-05-04T23:11:47.380Z"
   },
   {
    "duration": 2367,
    "start_time": "2023-05-04T23:11:50.106Z"
   },
   {
    "duration": 646,
    "start_time": "2023-05-04T23:12:12.089Z"
   },
   {
    "duration": 4,
    "start_time": "2023-05-04T23:12:18.090Z"
   },
   {
    "duration": 2,
    "start_time": "2023-05-04T23:12:20.287Z"
   },
   {
    "duration": 12,
    "start_time": "2023-05-04T23:12:57.131Z"
   },
   {
    "duration": 12,
    "start_time": "2023-05-04T23:13:27.335Z"
   },
   {
    "duration": 12,
    "start_time": "2023-05-04T23:13:34.692Z"
   },
   {
    "duration": 259,
    "start_time": "2023-05-04T23:13:42.494Z"
   },
   {
    "duration": 172,
    "start_time": "2023-05-04T23:14:38.984Z"
   },
   {
    "duration": 28,
    "start_time": "2023-05-04T23:15:05.008Z"
   },
   {
    "duration": 11,
    "start_time": "2023-05-04T23:15:21.319Z"
   },
   {
    "duration": 191,
    "start_time": "2023-05-04T23:15:24.114Z"
   },
   {
    "duration": 4,
    "start_time": "2023-05-04T23:18:20.539Z"
   },
   {
    "duration": 3,
    "start_time": "2023-05-04T23:18:28.327Z"
   },
   {
    "duration": 12,
    "start_time": "2023-05-04T23:18:56.971Z"
   },
   {
    "duration": 15,
    "start_time": "2023-05-04T23:19:37.277Z"
   },
   {
    "duration": 15,
    "start_time": "2023-05-04T23:19:50.341Z"
   },
   {
    "duration": 800,
    "start_time": "2023-05-04T23:19:53.465Z"
   },
   {
    "duration": 51,
    "start_time": "2023-05-04T23:21:15.108Z"
   },
   {
    "duration": 53,
    "start_time": "2023-05-04T23:21:35.043Z"
   },
   {
    "duration": 1177,
    "start_time": "2023-05-05T16:26:51.564Z"
   },
   {
    "duration": 76,
    "start_time": "2023-05-05T16:26:53.729Z"
   },
   {
    "duration": 15,
    "start_time": "2023-05-05T16:26:54.746Z"
   },
   {
    "duration": 6,
    "start_time": "2023-05-05T16:26:55.491Z"
   },
   {
    "duration": 11,
    "start_time": "2023-05-05T16:26:56.833Z"
   },
   {
    "duration": 26,
    "start_time": "2023-05-05T16:26:59.617Z"
   },
   {
    "duration": 3,
    "start_time": "2023-05-05T16:27:07.563Z"
   },
   {
    "duration": 31,
    "start_time": "2023-05-05T16:27:08.237Z"
   },
   {
    "duration": 495,
    "start_time": "2023-05-05T16:27:13.740Z"
   },
   {
    "duration": 22,
    "start_time": "2023-05-05T16:27:14.452Z"
   },
   {
    "duration": 15,
    "start_time": "2023-05-05T16:27:16.890Z"
   },
   {
    "duration": 11,
    "start_time": "2023-05-05T16:27:17.970Z"
   },
   {
    "duration": 333,
    "start_time": "2023-05-05T16:27:21.394Z"
   },
   {
    "duration": 8,
    "start_time": "2023-05-05T16:27:24.900Z"
   },
   {
    "duration": 23,
    "start_time": "2023-05-05T16:27:28.390Z"
   },
   {
    "duration": 35,
    "start_time": "2023-05-05T16:27:28.660Z"
   },
   {
    "duration": 67,
    "start_time": "2023-05-05T16:27:29.049Z"
   },
   {
    "duration": 154,
    "start_time": "2023-05-05T16:27:33.212Z"
   },
   {
    "duration": 129,
    "start_time": "2023-05-05T16:27:36.541Z"
   },
   {
    "duration": 12,
    "start_time": "2023-05-05T16:27:38.834Z"
   },
   {
    "duration": 71767,
    "start_time": "2023-05-05T16:27:40.692Z"
   },
   {
    "duration": 4809,
    "start_time": "2023-05-05T16:31:00.158Z"
   },
   {
    "duration": 4,
    "start_time": "2023-05-05T16:31:28.374Z"
   },
   {
    "duration": 5,
    "start_time": "2023-05-05T16:31:29.149Z"
   },
   {
    "duration": 4243,
    "start_time": "2023-05-05T16:31:31.094Z"
   },
   {
    "duration": 4518,
    "start_time": "2023-05-05T16:31:52.594Z"
   },
   {
    "duration": 781,
    "start_time": "2023-05-05T16:32:22.500Z"
   },
   {
    "duration": 5,
    "start_time": "2023-05-05T16:32:33.061Z"
   },
   {
    "duration": 3,
    "start_time": "2023-05-05T16:32:34.567Z"
   },
   {
    "duration": 19,
    "start_time": "2023-05-05T16:32:35.040Z"
   },
   {
    "duration": 1023,
    "start_time": "2023-05-05T16:32:40.127Z"
   },
   {
    "duration": 991,
    "start_time": "2023-05-05T16:32:42.804Z"
   },
   {
    "duration": 986,
    "start_time": "2023-05-05T16:34:44.508Z"
   },
   {
    "duration": 101,
    "start_time": "2023-05-05T16:36:28.372Z"
   },
   {
    "duration": 970,
    "start_time": "2023-05-05T16:40:17.247Z"
   },
   {
    "duration": 786,
    "start_time": "2023-05-05T16:41:16.488Z"
   },
   {
    "duration": 766,
    "start_time": "2023-05-05T16:41:42.698Z"
   },
   {
    "duration": 385,
    "start_time": "2023-05-05T16:42:20.880Z"
   },
   {
    "duration": 395,
    "start_time": "2023-05-05T16:44:14.318Z"
   },
   {
    "duration": 122,
    "start_time": "2023-05-05T16:45:05.132Z"
   },
   {
    "duration": 195,
    "start_time": "2023-05-05T16:45:16.642Z"
   },
   {
    "duration": 329,
    "start_time": "2023-05-05T16:53:13.293Z"
   },
   {
    "duration": 5325,
    "start_time": "2023-05-05T17:00:17.971Z"
   },
   {
    "duration": 452,
    "start_time": "2023-05-05T17:00:46.998Z"
   },
   {
    "duration": 16,
    "start_time": "2023-05-05T17:04:46.742Z"
   },
   {
    "duration": 1801,
    "start_time": "2023-05-05T17:05:48.462Z"
   },
   {
    "duration": 368,
    "start_time": "2023-05-05T17:06:57.378Z"
   },
   {
    "duration": 65051,
    "start_time": "2023-05-05T17:09:10.886Z"
   },
   {
    "duration": 10,
    "start_time": "2023-05-05T17:11:05.108Z"
   },
   {
    "duration": 4,
    "start_time": "2023-05-05T17:11:09.255Z"
   },
   {
    "duration": 5,
    "start_time": "2023-05-05T17:11:22.461Z"
   },
   {
    "duration": 3,
    "start_time": "2023-05-05T17:11:32.659Z"
   },
   {
    "duration": 65190,
    "start_time": "2023-05-05T17:12:31.886Z"
   },
   {
    "duration": 292,
    "start_time": "2023-05-05T17:13:59.174Z"
   },
   {
    "duration": 307,
    "start_time": "2023-05-05T17:15:25.626Z"
   },
   {
    "duration": 307,
    "start_time": "2023-05-05T17:15:45.610Z"
   },
   {
    "duration": 51,
    "start_time": "2023-07-28T00:26:10.764Z"
   },
   {
    "duration": 1222,
    "start_time": "2023-07-28T00:26:18.634Z"
   },
   {
    "duration": 85,
    "start_time": "2023-07-28T00:26:20.714Z"
   },
   {
    "duration": 15,
    "start_time": "2023-07-28T00:26:21.262Z"
   },
   {
    "duration": 6,
    "start_time": "2023-07-28T00:26:22.444Z"
   },
   {
    "duration": 25,
    "start_time": "2023-07-28T00:26:43.530Z"
   }
  ],
  "kernelspec": {
   "display_name": "Python 3 (ipykernel)",
   "language": "python",
   "name": "python3"
  },
  "language_info": {
   "codemirror_mode": {
    "name": "ipython",
    "version": 3
   },
   "file_extension": ".py",
   "mimetype": "text/x-python",
   "name": "python",
   "nbconvert_exporter": "python",
   "pygments_lexer": "ipython3",
   "version": "3.9.13"
  },
  "toc": {
   "base_numbering": 1,
   "nav_menu": {},
   "number_sections": true,
   "sideBar": true,
   "skip_h1_title": true,
   "title_cell": "Содержание",
   "title_sidebar": "Contents",
   "toc_cell": true,
   "toc_position": {
    "height": "calc(100% - 180px)",
    "left": "10px",
    "top": "150px",
    "width": "396.583px"
   },
   "toc_section_display": true,
   "toc_window_display": true
  }
 },
 "nbformat": 4,
 "nbformat_minor": 2
}
